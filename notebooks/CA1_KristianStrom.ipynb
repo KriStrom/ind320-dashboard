{
 "cells": [
  {
   "cell_type": "markdown",
   "id": "4918f1e5",
   "metadata": {},
   "source": [
    "# Compulsory Assignment 1 - IND320\n",
    "**Name of student:** Kristian Strøm  \n",
    "**Github repo:** https://github.com/KriStrom/kstrom-ind320-dashboard  \n",
    "**Streamlit address:**"
   ]
  }
 ],
 "metadata": {
  "language_info": {
   "name": "python"
  }
 },
 "nbformat": 4,
 "nbformat_minor": 5
}
